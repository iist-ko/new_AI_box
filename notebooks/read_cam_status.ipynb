{
 "cells": [
  {
   "cell_type": "code",
   "execution_count": 17,
   "metadata": {
    "collapsed": true
   },
   "outputs": [],
   "source": [
    "import json\n",
    "import requests\n",
    "from requests.auth import HTTPDigestAuth"
   ]
  },
  {
   "cell_type": "code",
   "execution_count": 13,
   "outputs": [],
   "source": [
    "auth = HTTPDigestAuth(username=\"root\", password=\"root\")\n",
    "ip = \"192.168.0.250\"\n",
    "cgi = f\"http://{ip}/cgi-bin/fwalarmstateget.cgi?FwModId=0&FwCgiVer=0x0001\""
   ],
   "metadata": {
    "collapsed": false
   }
  },
  {
   "cell_type": "code",
   "execution_count": 85,
   "outputs": [
    {
     "name": "stdout",
     "output_type": "stream",
     "text": [
      "FW_MODULE_ID=0\r\n",
      "NUM_OF_DI=3\r\n",
      "NUM_OF_DO=1\r\n",
      "NUM_OF_CAM=3\r\n",
      "DI_TYPE=0x00\r\n",
      "DO_TYPE=0x00\r\n",
      "DI_STATE=0x07\r\n",
      "DO_STATE=0x00\r\n",
      "MOTION_STATE=0x00\r\n",
      "CAM_STATE=0x07\r\n",
      "FES_STAMP=0x00004b0c\r\n",
      "FES_DATA0=0x00000333\r\n",
      "FES_DATA1=0x00000000\r\n",
      "FES_DATA2=0x00000000\r\n",
      "FES_DATA3=0x00000000\r\n",
      "\n"
     ]
    }
   ],
   "source": [
    "response = requests.get(cgi,auth=auth,timeout=0.5)\n",
    "print(response.text)"
   ],
   "metadata": {
    "collapsed": false
   }
  },
  {
   "cell_type": "code",
   "execution_count": 84,
   "outputs": [
    {
     "name": "stdout",
     "output_type": "stream",
     "text": [
      "FW_MODULE_ID=0\r\n",
      "NUM_OF_DI=3\r\n",
      "NUM_OF_DO=1\r\n",
      "NUM_OF_CAM=3\r\n",
      "DI_TYPE=0x00\r\n",
      "DO_TYPE=0x00\r\n",
      "DI_STATE=0x07\r\n",
      "DO_STATE=0x00\r\n",
      "MOTION_STATE=0x00\r\n",
      "CAM_STATE=0x07\r\n",
      "FES_STAMP=0x00004ac5\r\n",
      "FES_DATA0=0x00000333\r\n",
      "FES_DATA1=0x00000000\r\n",
      "FES_DATA2=0x00000000\r\n",
      "FES_DATA3=0x00000000\r\n",
      "\n"
     ]
    }
   ],
   "source": [
    "response = requests.get(cgi,auth=auth,timeout=0.5)\n",
    "print(response.text)"
   ],
   "metadata": {
    "collapsed": false
   }
  },
  {
   "cell_type": "code",
   "execution_count": 83,
   "outputs": [
    {
     "name": "stdout",
     "output_type": "stream",
     "text": [
      "{\"FW_MODULE_ID\":\"0\",\"NUM_OF_DI\":\"3\",\"NUM_OF_DO\":\"1\",\"NUM_OF_CAM\":\"3\",\"DI_TYPE\":\"0x00\",\"DO_TYPE\":\"0x00\",\"DI_STATE\":\"0x07\",\"DO_STATE\":\"0x07\",\"MOTION_STATE\":\"0x00\",\"CAM_STATE\":\"0x07\",\"FES_STAMP\":\"0x00004aaa\",\"FES_DATA0\":\"0x00000333\",\"FES_DATA1\":\"0x00000001\",\"FES_DATA2\":\"0x00000000\",\"FES_DATA3\":\"0x00000000\"}\n"
     ]
    }
   ],
   "source": [
    "a='{\"'+response.text.rstrip(\"\\r\\n\").replace(\"\\r\\n\", '\",\"').replace('=', '\":\"')+'\"}'\n",
    "print(a)"
   ],
   "metadata": {
    "collapsed": false
   }
  },
  {
   "cell_type": "code",
   "execution_count": 40,
   "outputs": [
    {
     "data": {
      "text/plain": "'0x07'"
     },
     "execution_count": 40,
     "metadata": {},
     "output_type": "execute_result"
    }
   ],
   "source": [
    "json.loads(a)['DO_STATE']"
   ],
   "metadata": {
    "collapsed": false
   }
  },
  {
   "cell_type": "code",
   "execution_count": 39,
   "outputs": [
    {
     "data": {
      "text/plain": "200"
     },
     "execution_count": 39,
     "metadata": {},
     "output_type": "execute_result"
    }
   ],
   "source": [
    "response.status_code"
   ],
   "metadata": {
    "collapsed": false
   }
  },
  {
   "cell_type": "code",
   "execution_count": 68,
   "outputs": [
    {
     "name": "stdout",
     "output_type": "stream",
     "text": [
      "404\n",
      "GIS_SENSOR1=0\n",
      "GIS_SENSOR2=0\n",
      "GIS_SENSOR3=0\n",
      "GIS_SENSOR4=0\n",
      "GIS_BUZZER=0\n",
      "GIS_ALARM1=1\n",
      "GIS_ALARM2=0\n",
      "GIS_ALARM3=0\n",
      "GIS_ALARM4=0\n",
      "\r\n",
      "\n"
     ]
    }
   ],
   "source": [
    "response1 =requests.get('http://192.168.0.191/httpapi/Wraction=writeparam&ETC_FLAMEDETECT_AlarmOutTest=0', auth=HTTPDigestAuth(\"admin\", \"root\"), timeout=0.1)\n",
    "print(response1.status_code)\n",
    "response2 = requests.get('http://192.168.0.191/httpapi/GetState?action=getinput&GIS_SENSOR1=0&GIS_SENSOR2=0'\n",
    "                         '&GIS_SENSOR3=0&GIS_SENSOR4=0&GIS_BUZZER=0&GIS_ALARM1=0&GIS_ALARM2=0&GIS_ALARM3=0'\n",
    "                         '&GIS_ALARM4=0', auth=HTTPDigestAuth(\"admin\", \"root\"), timeout=0.1)\n",
    "print(response2.text)"
   ],
   "metadata": {
    "collapsed": false
   }
  },
  {
   "cell_type": "code",
   "execution_count": 69,
   "outputs": [
    {
     "name": "stdout",
     "output_type": "stream",
     "text": [
      "404\n",
      "GIS_SENSOR1=0\n",
      "GIS_SENSOR2=0\n",
      "GIS_SENSOR3=0\n",
      "GIS_SENSOR4=0\n",
      "GIS_BUZZER=0\n",
      "GIS_ALARM1=1\n",
      "GIS_ALARM2=0\n",
      "GIS_ALARM3=0\n",
      "GIS_ALARM4=0\n",
      "\r\n",
      "\n"
     ]
    }
   ],
   "source": [
    "response1 =requests.get('http://192.168.0.191/httpapi/action=writeparam&ETC_FLAMEDETECT_AlarmOutTest=1', auth=HTTPDigestAuth(\"admin\", \"root\"), timeout=0.1)\n",
    "print(response1.status_code)\n",
    "response2 = requests.get('http://192.168.0.191/httpapi/GetState?action=getinput&GIS_SENSOR1=0&GIS_SENSOR2=0'\n",
    "                         '&GIS_SENSOR3=0&GIS_SENSOR4=0&GIS_BUZZER=0&GIS_ALARM1=0&GIS_ALARM2=0&GIS_ALARM3=0'\n",
    "                         '&GIS_ALARM4=0', auth=HTTPDigestAuth(\"admin\", \"root\"), timeout=0.1)\n",
    "print(response2.text)"
   ],
   "metadata": {
    "collapsed": false
   }
  },
  {
   "cell_type": "code",
   "execution_count": 8,
   "outputs": [
    {
     "name": "stdout",
     "output_type": "stream",
     "text": [
      "/home/iist/PycharmProjects/new_AI\n"
     ]
    }
   ],
   "source": [],
   "metadata": {
    "collapsed": false
   }
  },
  {
   "cell_type": "code",
   "execution_count": 28,
   "outputs": [
    {
     "name": "stdout",
     "output_type": "stream",
     "text": [
      "192.168.0.200 root root seyeon\n",
      "192.168.0.200 root root seyeon\n",
      "[not enough values to unpack (expected 4, got 3)] : json 확인\n",
      "['2'] : index 확인\n"
     ]
    }
   ],
   "source": [],
   "metadata": {
    "collapsed": false
   }
  }
 ],
 "metadata": {
  "kernelspec": {
   "display_name": "Python 3",
   "language": "python",
   "name": "python3"
  },
  "language_info": {
   "codemirror_mode": {
    "name": "ipython",
    "version": 2
   },
   "file_extension": ".py",
   "mimetype": "text/x-python",
   "name": "python",
   "nbconvert_exporter": "python",
   "pygments_lexer": "ipython2",
   "version": "2.7.6"
  }
 },
 "nbformat": 4,
 "nbformat_minor": 0
}
